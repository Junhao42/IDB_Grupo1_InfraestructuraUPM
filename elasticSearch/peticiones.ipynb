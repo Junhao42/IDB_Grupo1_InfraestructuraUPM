{
 "cells": [
  {
   "cell_type": "code",
   "execution_count": 1,
   "id": "ef8f2cad",
   "metadata": {},
   "outputs": [
    {
     "name": "stdout",
     "output_type": "stream",
     "text": [
      "Cargado en elasticSearch el archivo elastic-00344e54337e5db155ad42b18191294e773cc01a.json, en el indice: final_prueba\n",
      "Cargado en elasticSearch el archivo elastic-2038383fedccdf0b8c1efcb0832ecd18b481b3c1.json, en el indice: final_prueba\n",
      "Cargado en elasticSearch el archivo elastic-20f913b0e028c5d4aa52ed4f92155216f07de144.json, en el indice: final_prueba\n",
      "Cargado en elasticSearch el archivo elastic-2ca14fe14f0bd2f1363f3b735e788d12c3f9f332.json, en el indice: final_prueba\n"
     ]
    }
   ],
   "source": [
    "import requests \n",
    "import json\n",
    "import os \n",
    "\n",
    "nombre_indice = 'final_prueba'\n",
    "\n",
    "url = \"http://localhost:9200/\"+nombre_indice\n",
    "headers = {\"Content-Type\": \"application/json\"}\n",
    "data = open(r'.\\config.json').read()\n",
    "\n",
    "requests.put(url, headers=headers, data=data)\n",
    "\n",
    "contenido = os.listdir('./data')\n",
    "\n",
    "headers = {\"Content-Type\": \"application/json\"}\n",
    "\n",
    "for archivo in contenido:\n",
    "    if archivo.split('-')[0] == 'elastic':\n",
    "        data = open('./data/'+archivo).read()\n",
    "        requests.post(url+'/_doc/'+archivo.split('-')[1].split('.')[0], headers=headers, data=data)\n",
    "        print('Cargado en elasticSearch el archivo elastic-', archivo.split('-')[1], ', en el indice: ', nombre_indice, sep='')"
   ]
  },
  {
   "cell_type": "code",
   "execution_count": 3,
   "id": "3725b61c",
   "metadata": {},
   "outputs": [
    {
     "name": "stdout",
     "output_type": "stream",
     "text": [
      "\n",
      "Lista ordenada por relevancia de los papers en los que ha participado el autor Y. Filali\n",
      "['Comparison between Expert Systems, Machine Learning, and Big Data: An Overview', 'Spanish Language Models']\n"
     ]
    }
   ],
   "source": [
    "nombre_autor = 'Y. Filali'\n",
    "\n",
    "url_query = f\"http://localhost:9200/{nombre_indice}/_search?q=authors.name:{nombre_autor}\"\n",
    "headers = {\"Content-Type\": \"application/json\"}\n",
    "\n",
    "response = requests.post(url_query, headers=headers)\n",
    "\n",
    "data = response.json()\n",
    "\n",
    "a = [(hit[\"_source\"][\"title\"], len(hit[\"_source\"][\"authors\"])) for hit in data[\"hits\"][\"hits\"]]\n",
    "\n",
    "lista_ordenada = sorted(a, key=lambda x: x[1])\n",
    "salida = [tupla[0] for tupla in lista_ordenada]\n",
    "\n",
    "print('\\nLista ordenada por relevancia de los papers en los que ha participado el autor ', nombre_autor, '\\n', salida, sep='')"
   ]
  }
 ],
 "metadata": {
  "kernelspec": {
   "display_name": "Python 3 (ipykernel)",
   "language": "python",
   "name": "python3"
  },
  "language_info": {
   "codemirror_mode": {
    "name": "ipython",
    "version": 3
   },
   "file_extension": ".py",
   "mimetype": "text/x-python",
   "name": "python",
   "nbconvert_exporter": "python",
   "pygments_lexer": "ipython3",
   "version": "3.9.12"
  }
 },
 "nbformat": 4,
 "nbformat_minor": 5
}
