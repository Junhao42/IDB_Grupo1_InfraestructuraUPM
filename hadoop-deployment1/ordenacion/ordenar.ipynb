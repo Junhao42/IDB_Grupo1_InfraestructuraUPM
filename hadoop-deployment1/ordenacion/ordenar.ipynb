{
 "cells": [
  {
   "cell_type": "code",
   "execution_count": 47,
   "id": "01f23ae1",
   "metadata": {},
   "outputs": [
    {
     "name": "stdout",
     "output_type": "stream",
     "text": [
      "Requirement already satisfied: rank-bm25 in c:\\users\\alejandro\\anaconda3\\lib\\site-packages (0.2.2)\n",
      "Requirement already satisfied: numpy in c:\\users\\alejandro\\anaconda3\\lib\\site-packages (from rank-bm25) (1.21.5)\n"
     ]
    },
    {
     "name": "stderr",
     "output_type": "stream",
     "text": [
      "\n",
      "[notice] A new release of pip is available: 23.0.1 -> 23.1.2\n",
      "[notice] To update, run: python.exe -m pip install --upgrade pip\n"
     ]
    }
   ],
   "source": [
    "# instalacion de la metrica BM25\n",
    "!pip install rank-bm25 "
   ]
  },
  {
   "cell_type": "code",
   "execution_count": 78,
   "id": "6efff6e2",
   "metadata": {},
   "outputs": [
    {
     "data": {
      "text/html": [
       "<div>\n",
       "<style scoped>\n",
       "    .dataframe tbody tr th:only-of-type {\n",
       "        vertical-align: middle;\n",
       "    }\n",
       "\n",
       "    .dataframe tbody tr th {\n",
       "        vertical-align: top;\n",
       "    }\n",
       "\n",
       "    .dataframe thead th {\n",
       "        text-align: right;\n",
       "    }\n",
       "</style>\n",
       "<table border=\"1\" class=\"dataframe\">\n",
       "  <thead>\n",
       "    <tr style=\"text-align: right;\">\n",
       "      <th></th>\n",
       "      <th>titles</th>\n",
       "      <th>scores</th>\n",
       "    </tr>\n",
       "  </thead>\n",
       "  <tbody>\n",
       "    <tr>\n",
       "      <th>1</th>\n",
       "      <td>Overview of Big Data and Its Visualization</td>\n",
       "      <td>0.349730</td>\n",
       "    </tr>\n",
       "    <tr>\n",
       "      <th>0</th>\n",
       "      <td>Comparison between Expert Systems, Machine Lea...</td>\n",
       "      <td>0.346730</td>\n",
       "    </tr>\n",
       "    <tr>\n",
       "      <th>2</th>\n",
       "      <td>Overview of QuALES at IberLEF 2022: Question A...</td>\n",
       "      <td>0.329134</td>\n",
       "    </tr>\n",
       "    <tr>\n",
       "      <th>3</th>\n",
       "      <td>Spanish Language Models</td>\n",
       "      <td>0.302922</td>\n",
       "    </tr>\n",
       "  </tbody>\n",
       "</table>\n",
       "</div>"
      ],
      "text/plain": [
       "                                              titles    scores\n",
       "1         Overview of Big Data and Its Visualization  0.349730\n",
       "0  Comparison between Expert Systems, Machine Lea...  0.346730\n",
       "2  Overview of QuALES at IberLEF 2022: Question A...  0.329134\n",
       "3                            Spanish Language Models  0.302922"
      ]
     },
     "execution_count": 78,
     "metadata": {},
     "output_type": "execute_result"
    }
   ],
   "source": [
    "import pandas as pd\n",
    "from rank_bm25 import BM25Okapi\n",
    "\n",
    "titles = []\n",
    "\n",
    "with open(\"./salidaText.txt\") as fichero:\n",
    "    for linea in fichero:    \n",
    "        titles.append(str(linea[:-3]))\n",
    "\n",
    "data = pd.read_csv(\"./parrafos.csv\", index_col=0)\n",
    "textos = []\n",
    "\n",
    "for elem in titles:\n",
    "    textos.append(data['abstract'].where(data['title'] == elem).dropna().tolist()[0])\n",
    "    \n",
    "tokenized_texto = [doc.split(\" \") for doc in textos]\n",
    "\n",
    "bm25 = BM25Okapi(tokenized_texto)\n",
    "\n",
    "query = \"of\"\n",
    "tokenized_query = query.split(\" \")\n",
    "\n",
    "text_scores = bm25.get_scores(tokenized_query)\n",
    "\n",
    "respuesta = pd.DataFrame(list(zip(titles, text_scores)), columns = ['titles', 'scores']).sort_values('scores', ascending=False)\n",
    "respuesta['titles'].tolist()"
   ]
  }
 ],
 "metadata": {
  "kernelspec": {
   "display_name": "Python 3 (ipykernel)",
   "language": "python",
   "name": "python3"
  },
  "language_info": {
   "codemirror_mode": {
    "name": "ipython",
    "version": 3
   },
   "file_extension": ".py",
   "mimetype": "text/x-python",
   "name": "python",
   "nbconvert_exporter": "python",
   "pygments_lexer": "ipython3",
   "version": "3.9.12"
  }
 },
 "nbformat": 4,
 "nbformat_minor": 5
}
